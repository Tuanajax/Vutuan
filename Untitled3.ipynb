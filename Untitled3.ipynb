{
 "cells": [
  {
   "cell_type": "code",
   "execution_count": null,
   "id": "d880f358",
   "metadata": {},
   "outputs": [
    {
     "name": "stdout",
     "output_type": "stream",
     "text": [
      "Enter:3\n",
      " Enter number: 1\n",
      "1\n",
      " Enter number: 2\n",
      "2\n",
      " Enter number: 3\n",
      "3\n",
      " Enter number: 3\n",
      "3\n",
      " Enter number: 1\n",
      "1\n",
      " Enter number: 2\n",
      "2\n",
      " Enter number: 3\n",
      "3\n",
      " Enter number: 4\n",
      "4\n",
      " Enter number: 3\n",
      "3\n",
      " Enter number: 2\n",
      "2\n",
      " Enter number: 1\n",
      "1\n",
      " Enter number: 2\n",
      "2\n",
      " Enter number: 2\n",
      "2\n"
     ]
    }
   ],
   "source": []
  },
  {
   "cell_type": "code",
   "execution_count": 13,
   "id": "1cc85729",
   "metadata": {},
   "outputs": [
    {
     "name": "stdout",
     "output_type": "stream",
     "text": [
      "Enter:4\n",
      " Enter number: 5\n",
      " Enter number: 6\n",
      " Enter number: 8\n",
      " Enter number: 7\n",
      "8\n"
     ]
    }
   ],
   "source": [
    "a  = int(input(\"Enter:\"))\n",
    "i = 0\n",
    "string = \" \"\n",
    "while i < a:\n",
    "    b = (input(\" Enter number: \"))\n",
    "    string = string  + str(b)\n",
    "    i+=1\n",
    "print(max(string))\n",
    "        "
   ]
  },
  {
   "cell_type": "code",
   "execution_count": null,
   "id": "643902a5",
   "metadata": {},
   "outputs": [],
   "source": []
  },
  {
   "cell_type": "code",
   "execution_count": null,
   "id": "d84e6733",
   "metadata": {},
   "outputs": [],
   "source": []
  }
 ],
 "metadata": {
  "kernelspec": {
   "display_name": "Python 3 (ipykernel)",
   "language": "python",
   "name": "python3"
  },
  "language_info": {
   "codemirror_mode": {
    "name": "ipython",
    "version": 3
   },
   "file_extension": ".py",
   "mimetype": "text/x-python",
   "name": "python",
   "nbconvert_exporter": "python",
   "pygments_lexer": "ipython3",
   "version": "3.9.12"
  }
 },
 "nbformat": 4,
 "nbformat_minor": 5
}
